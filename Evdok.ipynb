{
 "cells": [
  {
   "cell_type": "code",
   "execution_count": null,
   "id": "74791731-65e2-4634-a40e-4dd3c37800af",
   "metadata": {},
   "outputs": [],
   "source": [
    "import numpy as np\n",
    "import pandas as pd\n",
    "import matplotlib.pyplot as plt\n",
    "import tensorflow as tf\n",
    "import seaborn as sns\n",
    "import plotly.express as px\n",
    "import sklearn\n",
    "\n",
    "from sklearn import linear_model\n",
    "from sklearn.ensemble import RandomForestRegressor, GradientBoostingRegressor\n",
    "from sklearn.linear_model import LinearRegression, LogisticRegression, SGDRegressor\n",
    "from sklearn.metrics import mean_squared_error, r2_score, mean_absolute_percentage_error, mean_absolute_error\n",
    "from sklearn.model_selection import train_test_split, GridSearchCV, KFold, cross_val_score\n",
    "from sklearn.neighbors import KNeighborsRegressor\n",
    "from sklearn.neural_network import MLPRegressor\n",
    "from sklearn.pipeline import make_pipeline, Pipeline\n",
    "from sklearn import preprocessing\n",
    "from sklearn.preprocessing import Normalizer, LabelEncoder, MinMaxScaler, StandardScaler\n",
    "from sklearn.svm import SVR\n",
    "from sklearn.tree import DecisionTreeRegressor\n"
   ]
  },
  {
   "cell_type": "code",
   "execution_count": null,
   "id": "c585d659-1cfd-4c75-9939-a36dd4aa0bf9",
   "metadata": {},
   "outputs": [],
   "source": [
    "from tensorflow import keras as keras\n",
    "from tensorflow.keras import layers\n",
    "from tensorflow.keras.layers import Dense, Flatten, Dropout, BatchNormalization, Activation\n",
    "from pandas import read_excel, DataFrame, Series\n",
    "from keras.wrappers.scikit_learn import KerasClassifier, KerasRegressor\n",
    "from tensorflow.keras.models import Sequential\n",
    "from numpy.random import seed\n",
    "from scipy import stats\n",
    "import warnings\n",
    "warnings.filterwarnings(\"ignore\")\n"
   ]
  },
  {
   "cell_type": "code",
   "execution_count": null,
   "id": "ba451339-cf4f-4936-8758-1b8215bfd0f9",
   "metadata": {},
   "outputs": [],
   "source": [
    "#Загружаем первый датасет (базальтопластик) и посмотрим на названия столбцов\n",
    "df_bp = pd.read_excel(r\"/home/rw/myenv/VKR/X_bp.xlsx\")\n",
    "df_bp.shape\n"
   ]
  },
  {
   "cell_type": "code",
   "execution_count": null,
   "id": "aff51244-c1fa-4668-b208-c1c090fb64c7",
   "metadata": {},
   "outputs": [],
   "source": [
    "#Удаляем первый неинформативный столбец\n",
    "df_bp.drop(['Unnamed: 0'], axis=1, inplace=True)\n",
    "#Посмотрим на первые 5 строк первого датасета и убедимся, что первый столбец удалился\n",
    "df_bp.head()\n"
   ]
  },
  {
   "cell_type": "code",
   "execution_count": null,
   "id": "0be83ca1-84d2-48bb-9353-1aec1ad6d285",
   "metadata": {},
   "outputs": [],
   "source": [
    "# Проверим размерность первого файла\n",
    "df_bp.shape"
   ]
  },
  {
   "cell_type": "code",
   "execution_count": null,
   "id": "848f8394-e866-45a7-96e6-5c3f61d070d9",
   "metadata": {},
   "outputs": [],
   "source": [
    "# Загружаем второй датасет (углепластик) \n",
    "df_nup = pd.read_excel(r\"C:\\Users\\Avona\\Desktop\\Моя ВКР\\Datasets\\X_nup.xlsx\")\n",
    "df_nup.shape"
   ]
  },
  {
   "cell_type": "code",
   "execution_count": null,
   "id": "c16922b4-b64b-42b1-91cd-8839bf23bd7d",
   "metadata": {},
   "outputs": [],
   "source": [
    "#Удаляем первый неинформативный столбец\n",
    "df_nup.drop(['Unnamed: 0'], axis=1, inplace=True)\n",
    "#Посмотрим на первые 5 строк второго датасета и убедимся, что и здесь не нужный первый столбец успешно удалился\n",
    "df_nup.head()"
   ]
  },
  {
   "cell_type": "code",
   "execution_count": null,
   "id": "6672b7ac-e2b5-4fd6-9804-de1ab2dd41aa",
   "metadata": {},
   "outputs": [],
   "source": [
    "# Проверим размерность второго файла\n",
    "df_nup.shape"
   ]
  },
  {
   "cell_type": "code",
   "execution_count": null,
   "id": "4e349b9e-9e3c-4278-94bf-1b635595672b",
   "metadata": {},
   "outputs": [],
   "source": [
    "# Понимаем, что эти два датасета имеют разный объем строк. \n",
    "# Но наша задача собрать исходные данные файлы в один, единый набор данных. \n",
    "# По условию задачи объединяем их по типу INNER. \n",
    "df = df_bp.merge(df_nup, left_index = True, right_index = True, how = 'inner')\n",
    "df.head().T"
   ]
  },
  {
   "cell_type": "code",
   "execution_count": null,
   "id": "3457d2bb-e482-445c-b767-c13be921d0cf",
   "metadata": {},
   "outputs": [],
   "source": [
    "#Посмотрим количество колонок и столбцов\n",
    "df.shape\n",
    "# Итоговый датасет имеет 13 столбцов и 1023 строки, 17 строк из таблицы X_nup было отброшено,\n",
    "# т.е часть данных удалена на начальном этапе исследования."
   ]
  },
  {
   "cell_type": "code",
   "execution_count": null,
   "id": "91e11bec-abb6-4c7b-bde7-33140ae3e761",
   "metadata": {},
   "outputs": [],
   "source": [
    "# Посмотрим на начальные и конечные строки нашего датасета на данном этапе работы\n",
    "df"
   ]
  },
  {
   "cell_type": "code",
   "execution_count": null,
   "id": "c5446f12-1649-48d0-9aaa-5a48a5df9d28",
   "metadata": {},
   "outputs": [],
   "source": [
    "#Просмотрим информацию о датасете, проверим тип данных в каждом столбце (типы признаков)\n",
    "df.info()\n",
    "# все переменные содержат значения float64, качественные характеристики отсутствуют. Пропусков не имеется.\n",
    "# Ни одна из записей не является NaN, очистка не требуется. Объединенный файл имеет всего 1023 строки."
   ]
  },
  {
   "cell_type": "code",
   "execution_count": null,
   "id": "28e9b97e-a2ee-46ff-86df-f0cffc007feb",
   "metadata": {},
   "outputs": [],
   "source": [
    "#Поиск уникальных значений с помощью функции nunique\n",
    "df.nunique()\n",
    "#Видим в основном общее число уникальных значений в каждом столбце, но в столбце \"Угол нашивки\" всего 2 значения. Поработаем с ним. "
   ]
  },
  {
   "cell_type": "code",
   "execution_count": null,
   "id": "b1003c9e-ec69-4f93-b798-8f89841cba41",
   "metadata": {},
   "outputs": [],
   "source": [
    "# Поработаем со столбцом \"Угол нашивки\""
   ]
  },
  {
   "cell_type": "code",
   "execution_count": null,
   "id": "3874b0f3-7f2b-4c13-a227-505d81b95682",
   "metadata": {},
   "outputs": [],
   "source": [
    "df['Угол нашивки, град'].nunique()\n",
    "#Так как кол-во уникальных значений в колонке Угол нашивки равно 2, можем привести данные в этой колонке к значениям 0 и 1"
   ]
  },
  {
   "cell_type": "code",
   "execution_count": null,
   "id": "50414eb9-1cf2-47a9-b3f9-98f83b8197af",
   "metadata": {},
   "outputs": [],
   "source": [
    "#Проверим кол-во элементов, где Угол нашивки равен 0 градусов\n",
    "df['Угол нашивки, град'][df['Угол нашивки, град'] == 0.0].count()"
   ]
  },
  {
   "cell_type": "code",
   "execution_count": null,
   "id": "3edff4f7-ff25-419c-a0d5-7a4c53e8a11a",
   "metadata": {},
   "outputs": [],
   "source": [
    "# Приведем столбец \"Угол нашивки\" к значениям 0 и 1 и integer\n",
    "df = df.replace({'Угол нашивки, град': {0.0 : 0, 90.0 : 1}})\n",
    "df['Угол нашивки, град'] = df['Угол нашивки, град'].astype(int)"
   ]
  },
  {
   "cell_type": "code",
   "execution_count": null,
   "id": "e682b3f9-ff56-4f0a-8fbc-9415dfa8ac49",
   "metadata": {},
   "outputs": [],
   "source": [
    "#Переименуем столбец\n",
    "df = df.rename(columns={'Угол нашивки, град' : 'Угол нашивки'})\n",
    "df"
   ]
  },
  {
   "cell_type": "code",
   "execution_count": null,
   "id": "42d42396-68b7-463f-a91b-b8a6435b10b8",
   "metadata": {},
   "outputs": [],
   "source": [
    "#Посчитаем количество элементов, где угол нашивки равен 0 градусов и убедимся, что количество не изменилось после наших манипуляций\n",
    "df['Угол нашивки'][df['Угол нашивки'] == 0.0].count()\n",
    "#После преобразования колонки Угол нашивки к значениям 0 и 1, кол-во элементов,\n",
    "# где угол нашивки равен 0 не изменилось (520 до и после преобразования)"
   ]
  },
  {
   "cell_type": "code",
   "execution_count": null,
   "id": "c80c57e9-208b-41e0-af3f-9fb6e50710a6",
   "metadata": {},
   "outputs": [],
   "source": [
    "# Переведем столбец с нумерацией в integer\n",
    "df.index = df.index.astype('int')"
   ]
  },
  {
   "cell_type": "code",
   "execution_count": null,
   "id": "d72f990a-0c7a-40d5-b82c-9faeffb8eb72",
   "metadata": {},
   "outputs": [],
   "source": [
    "# Сохраним итоговый датасет в отдельную папку с данными, чтобы долго не искать\n",
    "df.to_excel(\"Itog\\itog.xlsx\")"
   ]
  },
  {
   "cell_type": "code",
   "execution_count": null,
   "id": "edf5ac35-5e0e-4892-a7f5-ab835e31494d",
   "metadata": {},
   "outputs": [],
   "source": [
    "#Изучим описательную статистику наших данных (максимальное, минимальное, квартили, медиана, стандартное отклонение, \n",
    "# среднее значение и т.д.), посмотрим на основные параметры анализа данных\n",
    "df.describe()"
   ]
  },
  {
   "cell_type": "code",
   "execution_count": null,
   "id": "e0f345f5-d2e9-46cd-abd5-bada5e637855",
   "metadata": {},
   "outputs": [],
   "source": [
    "a = df.describe()\n",
    "a.T"
   ]
  },
  {
   "cell_type": "code",
   "execution_count": null,
   "id": "606d6ff1-c7a7-4948-ad57-627fd251944e",
   "metadata": {},
   "outputs": [],
   "source": [
    "# Пропуски данных"
   ]
  },
  {
   "cell_type": "code",
   "execution_count": null,
   "id": "0fa6da49-baee-4225-97f9-484a1230e1e7",
   "metadata": {},
   "outputs": [],
   "source": [
    "# Проверим на пропущенные данные\n",
    "df.isnull().sum()\n",
    "# Пропущенных данных нет = нулевых значений нет, очистка не требуется"
   ]
  },
  {
   "cell_type": "code",
   "execution_count": null,
   "id": "af53e04c-e386-48ae-8213-dbcaa8d1a7d6",
   "metadata": {},
   "outputs": [],
   "source": [
    "#светло-зеленый - не пропущенные, темнозеленый - пропущенные данные\n",
    "cols = df.columns\n",
    "colours = ['#ceff1d', '#008000'] \n",
    "sns.heatmap(df[cols].isnull(), cmap = sns.color_palette(colours))\n",
    "#Тепловая карта, так же как info() и функция ISNULL() показывает, что пропусков нет."
   ]
  },
  {
   "cell_type": "code",
   "execution_count": null,
   "id": "7aa09612-c4a5-4c83-aa96-2b858e500f0a",
   "metadata": {},
   "outputs": [],
   "source": [
    "for col in df.columns:\n",
    "    pct_missing = np.mean(df[col].isnull())\n",
    "    print('{} - {}%'.format(col, round(pct_missing*100)))"
   ]
  },
  {
   "cell_type": "code",
   "execution_count": null,
   "id": "05dd3070-0fe2-45df-a384-e6ebc085ab3d",
   "metadata": {},
   "outputs": [],
   "source": [
    "#Дубликаты"
   ]
  },
  {
   "cell_type": "code",
   "execution_count": null,
   "id": "de6de4d3-aff5-41cc-8a77-478042702cb0",
   "metadata": {},
   "outputs": [],
   "source": [
    "# Проверим датасет на дубликаты\n",
    "df.duplicated().sum()\n",
    "#Дубликатов нет"
   ]
  },
  {
   "cell_type": "code",
   "execution_count": null,
   "id": "5d4d3c94-04fc-4b2f-b28c-9375373b629d",
   "metadata": {},
   "outputs": [],
   "source": [
    "#По заданию необходимо получить среднее, медианное значение для каждой колонки\n",
    "#среднее значение"
   ]
  },
  {
   "cell_type": "code",
   "execution_count": null,
   "id": "64fa1bca-5d59-4575-bfd2-2557c67e04f6",
   "metadata": {},
   "outputs": [],
   "source": [
    "#получим среднее и медианное значения данных в колонках\n",
    "mean_and_50 = df.describe()\n",
    "mean_and_50.loc[['mean', '50%']]\n",
    "#в целом мы видим близкие друг к другу значения"
   ]
  },
  {
   "cell_type": "code",
   "execution_count": null,
   "id": "08ed7ef2-5139-44ac-b809-b19d3bae647e",
   "metadata": {},
   "outputs": [],
   "source": [
    "# среднее значение"
   ]
  },
  {
   "cell_type": "code",
   "execution_count": null,
   "id": "8e7c9b9f-618a-4dd2-8932-d213c755170f",
   "metadata": {},
   "outputs": [],
   "source": [
    "df.mean()"
   ]
  },
  {
   "cell_type": "code",
   "execution_count": null,
   "id": "13782cba-acce-4c37-b327-83af668573be",
   "metadata": {},
   "outputs": [],
   "source": [
    "# медианное значение"
   ]
  },
  {
   "cell_type": "code",
   "execution_count": null,
   "id": "6db495f0-d076-4186-9ee2-00d527d305b4",
   "metadata": {},
   "outputs": [],
   "source": [
    "df.median()"
   ]
  },
  {
   "cell_type": "code",
   "execution_count": null,
   "id": "5cb1695e-43b3-414e-b1d8-f74b357ab760",
   "metadata": {},
   "outputs": [],
   "source": [
    "# Вычисляем коэффициенты ранговой корреляции Кендалла. Статистической зависимости не наблюдаем.\n",
    "df.corr(method = 'kendall')"
   ]
  },
  {
   "cell_type": "code",
   "execution_count": null,
   "id": "e5c2c878-44e1-468c-90b8-07df024b574c",
   "metadata": {},
   "outputs": [],
   "source": [
    "#Вычисляем коэффициенты корреляции Пирсона. Статистической зависимости не наблюдаем.\n",
    "df.corr(method ='pearson')"
   ]
  },
  {
   "cell_type": "code",
   "execution_count": null,
   "id": "d1c1c29d-3455-48de-b77e-cb521e2223e8",
   "metadata": {},
   "outputs": [],
   "source": [
    "#Создадим переменную для названия всех столбцов. Это нам пригодится при построении моделей. И перейдем к визуализации данных\n",
    "df.columns\n",
    "#column_names = [\"Соотношение матрица-наполнитель\",\"Плотность, кг/м3\",\"модуль упругости, ГПа\",\"Количество отвердителя, м.%\",\n",
    "#         \"Содержание эпоксидных групп,%_2\",\"Температура вспышки, С_2\",\"Поверхностная плотность, г/м2\",\n",
    "#         \"Модуль упругости при растяжении, ГПа\",\"Прочность при растяжении, МПа\",\"Потребление смолы, г/м2\",\n",
    "#        \"Угол нашивки, град\",\"Шаг нашивки\",\"Плотность нашивки\"]\n",
    "column_names = df.columns"
   ]
  },
  {
   "cell_type": "code",
   "execution_count": null,
   "id": "970e33ac-f142-4ef5-a390-c7ef1425b09f",
   "metadata": {},
   "outputs": [],
   "source": [
    "# Построим гистограммы распределения каждой из переменных без нормализации и исключения шумов\n",
    "df.hist(figsize = (20,20), color = \"g\")\n",
    "plt.show()"
   ]
  },
  {
   "cell_type": "code",
   "execution_count": null,
   "id": "eb8dd4f7-ca3f-4350-9099-103152108503",
   "metadata": {},
   "outputs": [],
   "source": [
    "# Гистограмма распределения (второй вариант)\n",
    "a = 5 # количество строк\n",
    "b = 5 # количество столцбцов\n",
    "c = 1 # инициализация plot counter\n",
    "plt.figure(figsize = (35,35))\n",
    "plt.suptitle('Гистограммы переменных', fontsize = 30)\n",
    "for col in df.columns:\n",
    "    plt.subplot(a, b, c)\n",
    "    #plt.figure(figsize=(7,5))\n",
    "    sns.histplot(data = df[col], kde=True, color = \"darkgreen\")\n",
    "    plt.ylabel(None)\n",
    "    plt.title(col, size = 20)\n",
    "    #plt.show()\n",
    "    c += 1\n",
    "#Гистограммы показывают ярковыраженные выбросы в столбцах: плотность, содержание эпоксидных групп, температура вспышки, плотность нашивки. \n",
    "#Данные стремятся к нормальному распределению практически везде, кроме угла нашивки, имеющим только 2 значения, с которым мы уже \n",
    "#поработали ранее. "
   ]
  },
  {
   "cell_type": "code",
   "execution_count": null,
   "id": "ed7b8421-b1f8-45c8-a068-b4be12caca97",
   "metadata": {},
   "outputs": [],
   "source": [
    "# гистограмма распределения и боксплоты (третий вариант)\n",
    "\n",
    "for column in df.columns:\n",
    "    fig = px.histogram(df, x = column, color_discrete_sequence = ['green'], nbins = 100, marginal = \"box\")\n",
    "    fig.show()"
   ]
  },
  {
   "cell_type": "code",
   "execution_count": null,
   "id": "af001ef5-05b9-4cdf-8e59-bbd2cae56ae6",
   "metadata": {},
   "outputs": [],
   "source": [
    "for column in df.columns:\n",
    "    fig = px.box(df, y = column)\n",
    "    fig.show()"
   ]
  },
  {
   "cell_type": "code",
   "execution_count": null,
   "id": "80064704-e278-4bfe-bad3-cc303944040f",
   "metadata": {},
   "outputs": [],
   "source": [
    "# \"Ящики с усами\"(боксплоты) (первый вариант)\n",
    "scaler = MinMaxScaler()\n",
    "scaler.fit(df)\n",
    "plt.figure(figsize = (20, 20))\n",
    "plt.suptitle('Диаграммы \"ящики с усами\"', y = 0.9 ,\n",
    "             fontsize = 30)\n",
    "plt.boxplot(pd.DataFrame(scaler.transform(df)), labels = df.columns,patch_artist = True, meanline = True, vert = False, boxprops = dict(facecolor = 'g', color = 'y'),medianprops = dict(color = 'lime'), whiskerprops = dict(color=\"g\"), capprops = dict(color = \"black\"), flierprops = dict(color = \"y\", markeredgecolor = \"maroon\"))\n",
    "plt.show()"
   ]
  },
  {
   "cell_type": "code",
   "execution_count": null,
   "id": "db699809-7b62-4690-9719-17c779560d9c",
   "metadata": {},
   "outputs": [],
   "source": [
    "# Ящики с усами (второй вариант)\n",
    "a = 5 # количество строк\n",
    "b = 5 # количество столцбцов\n",
    "c = 1 # инициализация plot counter\n",
    "\n",
    "plt.figure(figsize = (35,35))\n",
    "plt.suptitle('Диаграммы \"ящики с усами\"', y = 0.9 ,\n",
    "             fontsize = 30)\n",
    "for col in df.columns:\n",
    "    plt.subplot(a, b, c)\n",
    "    #plt.figure(figsize=(7,5))\n",
    "    sns.boxplot(data = df, y = df[col], fliersize = 15, linewidth = 5, boxprops = dict(facecolor = 'y', color = 'g'), medianprops = dict(color = 'lime'), whiskerprops = dict(color=\"g\"), capprops = dict(color = \"yellow\"), flierprops = dict(color=\"y\", markeredgecolor = \"lime\"))\n",
    "    plt.ylabel(None)\n",
    "    plt.title(col, size = 20)\n",
    "    #plt.show()\n",
    "    c += 1\n",
    "# \"Ящики с усами\" показывают наличие выбросов во всех столбцах, кроме углов нашивки, значит, с ними будем работать"
   ]
  },
  {
   "cell_type": "code",
   "execution_count": null,
   "id": "01bf1476-a567-48c0-ae5c-92a40036e906",
   "metadata": {},
   "outputs": [],
   "source": [
    "# Гистограмма распределения и диаграмма \"ящик с усами\" вместе с данными по каждому столбцу\n",
    "for column_name in column_names:\n",
    "    print(column_name)\n",
    "    \n",
    "    #Гистограмма распределения\n",
    "    gis = df[column_name]\n",
    "    sns.set_style(\"whitegrid\")\n",
    "    sns.kdeplot(data = gis, shade = True, palette ='colorblind', color = \"g\")\n",
    "    plt.show()\n",
    "    \n",
    "    #Диаграмма \"Ящик с усами\"\n",
    "    sns.boxplot(x=gis, color = \"g\");\n",
    "    plt.show()\n",
    "    \n",
    "    #Значения (мин макс ср)\n",
    "    print(\"Минимальное значение: \", end = \" \")\n",
    "    print(np.min(gis))\n",
    "    print(\"Максимальное значение: \", end=\" \")\n",
    "    print(np.max(gis))\n",
    "    print(\"Среднее значение: \", end = \" \")\n",
    "    print(np.mean(gis))\n",
    "\n",
    "    print(\"Медианное значение: \", end = \" \")\n",
    "    print(np.median(gis))\n",
    "    print(\"\\n\\n\")\n",
    "# Кроме \"Угол нашивки, град\" и \"Поверхностная плотность, г/м2\" остальные переменные относительно хорошо соответствуют нормальному распределению"
   ]
  },
  {
   "cell_type": "code",
   "execution_count": null,
   "id": "6f56705e-0ae2-405c-a006-c9339bc01153",
   "metadata": {},
   "outputs": [],
   "source": [
    "# Попарные графики рассеяния точек (матрица диаграмм рассеяния) (первый вариант)\n",
    "sns.set_style('darkgrid')\n",
    "sns.pairplot(df, hue = 'Угол нашивки', markers = [\"o\", \"s\"], diag_kind = 'auto', palette='YlGn')\n",
    "# Попарные графики рассеяния точек так же не показывают какой-либо зависимости между данными. Зависимость между показателями не линейная,\n",
    "# взаимосвязь отсутствует, необходимо использовать несколько показателей. \n",
    "# из графиков можно наблюдать выбросы, потому что некоторые точки располагаются далеко от общего облака\n",
    "# Отсутствие линейной корреляции наверняка подтвердится при построении регрессии?"
   ]
  },
  {
   "cell_type": "code",
   "execution_count": null,
   "id": "5c24d104-a1a3-487b-aa9d-3c0143ff5628",
   "metadata": {},
   "outputs": [],
   "source": [
    "# Попарные графики рассеяния точек - скаттерплоты (второй вариант) \n",
    "g = sns.PairGrid(df[df.columns])\n",
    "g.map(sns.scatterplot, color = 'darkgreen')\n",
    "g.map_upper(sns.scatterplot, color = 'darkgreen')\n",
    "g.map_lower(sns.kdeplot, color = 'darkgreen')\n",
    "plt.show\n",
    "# Корреляции нет"
   ]
  },
  {
   "cell_type": "code",
   "execution_count": null,
   "id": "3f40133c-805d-452b-a31f-66d4003cdb95",
   "metadata": {},
   "outputs": [],
   "source": [
    "# график qq\n",
    "for i in df.columns:\n",
    "    plt.figure(figsize = (6, 4))\n",
    "    res = stats.probplot(df[i], plot = plt)\n",
    "    plt.title(i, fontsize = 10)\n",
    "    plt.xlabel(\"Теоретические квантили\", fontsize = 10)\n",
    "    plt.ylabel(\"Упорядоченные значения\", fontsize = 10)\n",
    "    plt.show()"
   ]
  },
  {
   "cell_type": "code",
   "execution_count": null,
   "id": "fafb603b-7e65-44e6-8158-db02a062e58d",
   "metadata": {},
   "outputs": [],
   "source": [
    "#Визуализация корреляционной матрицы с помощью тепловой карты\n",
    "mask = np.triu(df.corr())\n",
    "# Создаем полотно для отображения большого графика\n",
    "f, ax = plt.subplots(figsize = (11, 9))\n",
    "# # Визуализируем данные кореляции и создаем цветовую палитру\n",
    "sns.heatmap(df.corr(), mask = mask, annot = True, square = True, cmap = 'YlGn')\n",
    "plt.xticks(rotation = 45, ha='right')\n",
    "plt.show()\n",
    "# Максимальная корреляция между Плотностью нашивки и углом нашивки и составляет 0.11, что говорит об отсутствии зависимости между этими данными. \n",
    "# Корреляция между всеми параметрами очень близка к 0, что говорит об отсутствии корреляционных связей между переменными."
   ]
  },
  {
   "cell_type": "code",
   "execution_count": null,
   "id": "ef1d30ac-b51c-4cab-92b0-bc469f8f1466",
   "metadata": {},
   "outputs": [],
   "source": [
    "# График корреляции подтверждает данные теории композитных материалов. Мы видим, что на качество материла влияет температура вспышки и количество отвердителя из-за взаимодействия отвердителя с матрицей и наполнителем под влиянием температуры. Угол нашивки и плотность нашивки несомненно оказывают влияние на свойства материала. А потребление смолы и соотношение матрицы-наполнителя, плотности и плотности нашивки, модуля упругости и плотности нашивки имеют не особенно выраженную корреляцию."
   ]
  }
 ],
 "metadata": {
  "kernelspec": {
   "display_name": "Python 3 (ipykernel)",
   "language": "python",
   "name": "python3"
  },
  "language_info": {
   "codemirror_mode": {
    "name": "ipython",
    "version": 3
   },
   "file_extension": ".py",
   "mimetype": "text/x-python",
   "name": "python",
   "nbconvert_exporter": "python",
   "pygments_lexer": "ipython3",
   "version": "3.11.6"
  }
 },
 "nbformat": 4,
 "nbformat_minor": 5
}
